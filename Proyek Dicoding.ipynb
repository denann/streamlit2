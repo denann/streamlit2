{
 "cells": [
  {
   "cell_type": "code",
   "execution_count": 1,
   "id": "5f0f0553-0ede-4e07-9dce-34e27084aee4",
   "metadata": {},
   "outputs": [],
   "source": [
    "import numpy as np \n",
    "import pandas as pd # Akses ke Dataframe\n",
    "import scipy as sc # Menggunakan numpy untuk komputasi statistik\n",
    "import matplotlib # Grafik visualisasi data statis, animated, dan interaktif\n",
    "import seaborn # Grafik visdat yang memanfaatkan matplotlib mirip ggplot\n",
    "import matplotlib.pyplot as plt\n",
    "import sqlalchemy as sqla # SQL"
   ]
  },
  {
   "cell_type": "code",
   "execution_count": 11,
   "id": "4284c210-2939-4f10-8a50-f182247c7650",
   "metadata": {},
   "outputs": [],
   "source": [
    "orders_df = pd.read_csv(\"orders_dataset.csv\", delimiter = \";\")"
   ]
  },
  {
   "cell_type": "code",
   "execution_count": 12,
   "id": "36290e80-c8ad-44a5-8fd8-7011a0245f10",
   "metadata": {},
   "outputs": [],
   "source": [
    "orders_payment_df = pd.read_csv(\"order_payments_dataset.csv\", delimiter = \";\")"
   ]
  },
  {
   "cell_type": "code",
   "execution_count": 13,
   "id": "2c1a4541-e75d-4c69-9101-d34f1f40ab26",
   "metadata": {},
   "outputs": [],
   "source": [
    "orders_items_df = pd.read_csv(\"order_items_dataset.csv\", delimiter = \";\")"
   ]
  },
  {
   "cell_type": "code",
   "execution_count": 15,
   "id": "4b905d86-e538-434e-89d4-de719e670d79",
   "metadata": {},
   "outputs": [],
   "source": [
    "orders_reviews_df = pd.read_csv(\"order_reviews_dataset.csv\", delimiter = \";\")"
   ]
  },
  {
   "cell_type": "code",
   "execution_count": 16,
   "id": "e02f331e-c1e3-434a-bf79-b4e24c243a31",
   "metadata": {},
   "outputs": [],
   "source": [
    "customers_df = pd.read_csv(\"customers_dataset.csv\", delimiter = \";\")"
   ]
  }
 ],
 "metadata": {
  "kernelspec": {
   "display_name": "Python 3 (ipykernel)",
   "language": "python",
   "name": "python3"
  },
  "language_info": {
   "codemirror_mode": {
    "name": "ipython",
    "version": 3
   },
   "file_extension": ".py",
   "mimetype": "text/x-python",
   "name": "python",
   "nbconvert_exporter": "python",
   "pygments_lexer": "ipython3",
   "version": "3.10.1"
  }
 },
 "nbformat": 4,
 "nbformat_minor": 5
}
